{
 "cells": [
  {
   "cell_type": "code",
   "execution_count": 6,
   "id": "e463e515",
   "metadata": {},
   "outputs": [
    {
     "name": "stdout",
     "output_type": "stream",
     "text": [
      "(1500, 1000)\n"
     ]
    }
   ],
   "source": [
    "import cv2\n",
    "image=cv2.imread(\"cat-4.jpg\",0)\n",
    "print(image.shape)\n",
    "cv2.waitKey(0)\n",
    "cv2.imshow(\"grayimage\",image)"
   ]
  },
  {
   "cell_type": "code",
   "execution_count": 10,
   "id": "9385f663",
   "metadata": {},
   "outputs": [
    {
     "name": "stdout",
     "output_type": "stream",
     "text": [
      "1500000\n",
      "(400, 300)\n"
     ]
    }
   ],
   "source": [
    "print(image.size)\n",
    "image1=cv2.resize(image,(300,400))\n",
    "print(image1.shape)\n",
    "cv2.waitKey(0)\n",
    "cv2.imshow(\"resize\",image1)"
   ]
  },
  {
   "cell_type": "code",
   "execution_count": 19,
   "id": "c3472f85",
   "metadata": {},
   "outputs": [
    {
     "name": "stdout",
     "output_type": "stream",
     "text": [
      "row_averages [ 19.6625      19.5078125   19.53671875 ... 151.1921875  150.996875\n",
      " 151.0109375 ]\n",
      "column averages [54.37916667 54.17135417 54.10208333 ... 39.0625     39.09947917\n",
      " 39.26197917]\n"
     ]
    }
   ],
   "source": [
    "import cv2\n",
    "import numpy as np\n",
    "image = cv2.imread(\"cat-3.jpg\", cv2.IMREAD_GRAYSCALE)\n",
    "row_averages = np.mean(image, axis=1)\n",
    "print(\"row_averages\",row_averages)\n",
    "col_averages=np.mean(image,axis=0)\n",
    "print(\"column averages\",col_averages)"
   ]
  },
  {
   "cell_type": "code",
   "execution_count": 10,
   "id": "e7ea726c",
   "metadata": {},
   "outputs": [
    {
     "name": "stdout",
     "output_type": "stream",
     "text": [
      "189\n",
      "0\n"
     ]
    },
    {
     "data": {
      "text/plain": [
       "-1"
      ]
     },
     "execution_count": 10,
     "metadata": {},
     "output_type": "execute_result"
    }
   ],
   "source": [
    "import cv2\n",
    "image2=cv2.imread(\"cat-4.jpg\",2)\n",
    "max_pixel_value = image2.max()\n",
    "min_pixel_value=image2.min()\n",
    "print(max_pixel_value)\n",
    "print(min_pixel_value)\n",
    "cv2.imshow(\"color_img\",image2)\n",
    "cv2.waitKey(0)\n"
   ]
  },
  {
   "cell_type": "code",
   "execution_count": null,
   "id": "a03cefed",
   "metadata": {},
   "outputs": [],
   "source": []
  }
 ],
 "metadata": {
  "kernelspec": {
   "display_name": "Python 3 (ipykernel)",
   "language": "python",
   "name": "python3"
  },
  "language_info": {
   "codemirror_mode": {
    "name": "ipython",
    "version": 3
   },
   "file_extension": ".py",
   "mimetype": "text/x-python",
   "name": "python",
   "nbconvert_exporter": "python",
   "pygments_lexer": "ipython3",
   "version": "3.9.13"
  }
 },
 "nbformat": 4,
 "nbformat_minor": 5
}
